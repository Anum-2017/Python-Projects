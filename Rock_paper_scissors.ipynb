{
  "nbformat": 4,
  "nbformat_minor": 0,
  "metadata": {
    "colab": {
      "provenance": [],
      "authorship_tag": "ABX9TyOVnCv4Z6Ypddt16fwyUzAm",
      "include_colab_link": true
    },
    "kernelspec": {
      "name": "python3",
      "display_name": "Python 3"
    },
    "language_info": {
      "name": "python"
    }
  },
  "cells": [
    {
      "cell_type": "markdown",
      "metadata": {
        "id": "view-in-github",
        "colab_type": "text"
      },
      "source": [
        "<a href=\"https://colab.research.google.com/github/Anum-2017/Python-Projects/blob/main/Rock_paper_scissors.ipynb\" target=\"_parent\"><img src=\"https://colab.research.google.com/assets/colab-badge.svg\" alt=\"Open In Colab\"/></a>"
      ]
    },
    {
      "cell_type": "markdown",
      "source": [
        "# **Project 4: Rock, paper, scissors Python Project**"
      ],
      "metadata": {
        "id": "MW2tHwBnTJd1"
      }
    },
    {
      "cell_type": "code",
      "execution_count": 1,
      "metadata": {
        "colab": {
          "base_uri": "https://localhost:8080/"
        },
        "id": "fINHSSrJTB8T",
        "outputId": "e4b6d14a-ca86-4bc7-8ef8-482ac487fd95"
      },
      "outputs": [
        {
          "output_type": "stream",
          "name": "stdout",
          "text": [
            "🎮 Welcome to Rock, Paper, Scissors! ✂️🪨📄\n",
            "🔹 Type 'r' for Rock, 'p' for Paper, 's' for Scissors, or 'q' to Quit.\n",
            "\n",
            "🤔 Choose: Rock (r), Paper (p), Scissors (s), or Quit (q): r\n",
            "🧑 You chose: Rock 🎭\n",
            "🤖 Computer chose: Paper 💻\n",
            "😢 You lose! Better luck next time. 💀\n",
            "\n",
            "🤔 Choose: Rock (r), Paper (p), Scissors (s), or Quit (q): r\n",
            "🧑 You chose: Rock 🎭\n",
            "🤖 Computer chose: Rock 💻\n",
            "😲 It's a tie! 🔄\n",
            "\n",
            "🤔 Choose: Rock (r), Paper (p), Scissors (s), or Quit (q): S\n",
            "🧑 You chose: Scissors 🎭\n",
            "🤖 Computer chose: Paper 💻\n",
            "🎉 You win! 🏆🔥\n",
            "\n",
            "🤔 Choose: Rock (r), Paper (p), Scissors (s), or Quit (q): Q\n",
            "\n",
            "📊 Final Score:\n",
            "✅ Wins: 1 | ❌ Losses: 1 | 🔄 Ties: 1\n",
            "👋 Thanks for playing! See you next time. 🎉\n"
          ]
        }
      ],
      "source": [
        "import random\n",
        "\n",
        "def play_game():\n",
        "    print(\"🎮 Welcome to Rock, Paper, Scissors! ✂️🪨📄\")\n",
        "    print(\"🔹 Type 'r' for Rock, 'p' for Paper, 's' for Scissors, or 'q' to Quit.\")\n",
        "\n",
        "    choices = {\"r\": \"rock\", \"p\": \"paper\", \"s\": \"scissors\"}\n",
        "    score = {\"wins\": 0, \"losses\": 0, \"ties\": 0}\n",
        "\n",
        "    while True:\n",
        "        user_input = input(\"\\n🤔 Choose: Rock (r), Paper (p), Scissors (s), or Quit (q): \").lower()\n",
        "\n",
        "        if user_input == \"q\":\n",
        "            print(\"\\n📊 Final Score:\")\n",
        "            print(f\"✅ Wins: {score['wins']} | ❌ Losses: {score['losses']} | 🔄 Ties: {score['ties']}\")\n",
        "            print(\"👋 Thanks for playing! See you next time. 🎉\")\n",
        "            break\n",
        "\n",
        "        if user_input not in choices:\n",
        "            print(\"⚠️ Invalid choice! Please enter 'r', 'p', or 's'. ❌\")\n",
        "            continue\n",
        "\n",
        "        user_choice = choices[user_input]\n",
        "        computer_choice = random.choice(list(choices.values()))\n",
        "\n",
        "        print(f\"🧑 You chose: {user_choice.capitalize()} 🎭\")\n",
        "        print(f\"🤖 Computer chose: {computer_choice.capitalize()} 💻\")\n",
        "\n",
        "        if user_choice == computer_choice:\n",
        "            print(\"😲 It's a tie! 🔄\")\n",
        "            score[\"ties\"] += 1\n",
        "        elif (user_choice == \"rock\" and computer_choice == \"scissors\") or \\\n",
        "             (user_choice == \"paper\" and computer_choice == \"rock\") or \\\n",
        "             (user_choice == \"scissors\" and computer_choice == \"paper\"):\n",
        "            print(\"🎉 You win! 🏆🔥\")\n",
        "            score[\"wins\"] += 1\n",
        "        else:\n",
        "            print(\"😢 You lose! Better luck next time. 💀\")\n",
        "            score[\"losses\"] += 1\n",
        "\n",
        "play_game()"
      ]
    }
  ]
}