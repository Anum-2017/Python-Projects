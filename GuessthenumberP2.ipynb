{
  "nbformat": 4,
  "nbformat_minor": 0,
  "metadata": {
    "colab": {
      "provenance": [],
      "authorship_tag": "ABX9TyPw/pEz8x8XOUAE49m26n14",
      "include_colab_link": true
    },
    "kernelspec": {
      "name": "python3",
      "display_name": "Python 3"
    },
    "language_info": {
      "name": "python"
    }
  },
  "cells": [
    {
      "cell_type": "markdown",
      "metadata": {
        "id": "view-in-github",
        "colab_type": "text"
      },
      "source": [
        "<a href=\"https://colab.research.google.com/github/Anum-2017/Python-Projects/blob/main/GuessthenumberP2.ipynb\" target=\"_parent\"><img src=\"https://colab.research.google.com/assets/colab-badge.svg\" alt=\"Open In Colab\"/></a>"
      ]
    },
    {
      "cell_type": "markdown",
      "source": [
        "## **Project 2: Guess the Number Game Python Project (computer)**"
      ],
      "metadata": {
        "id": "7U8Hsg9ySSJY"
      }
    },
    {
      "cell_type": "code",
      "execution_count": 5,
      "metadata": {
        "colab": {
          "base_uri": "https://localhost:8080/"
        },
        "id": "LlGX7JdnSQxg",
        "outputId": "518d86e0-8848-4fda-9e1a-b8e28ddfdf66"
      },
      "outputs": [
        {
          "output_type": "stream",
          "name": "stdout",
          "text": [
            "🎲 Think of a number between 1 and 100 and I will try to guess it! 🤔\n",
            "Is your number 97? 😅\n",
            "Enter 'h' if it's too high ⬆️, 'l' if it's too low ⬇️, or 'c' if I guessed correctly ✅: h\n",
            "Is your number 43? 😅\n",
            "Enter 'h' if it's too high ⬆️, 'l' if it's too low ⬇️, or 'c' if I guessed correctly ✅: l\n",
            "Is your number 81? 😅\n",
            "Enter 'h' if it's too high ⬆️, 'l' if it's too low ⬇️, or 'c' if I guessed correctly ✅: h\n",
            "Is your number 77? 😅\n",
            "Enter 'h' if it's too high ⬆️, 'l' if it's too low ⬇️, or 'c' if I guessed correctly ✅: h\n",
            "Is your number 70? 😅\n",
            "Enter 'h' if it's too high ⬆️, 'l' if it's too low ⬇️, or 'c' if I guessed correctly ✅: h\n",
            "Is your number 55? 😅\n",
            "Enter 'h' if it's too high ⬆️, 'l' if it's too low ⬇️, or 'c' if I guessed correctly ✅: l\n",
            "Is your number 63? 😅\n",
            "Enter 'h' if it's too high ⬆️, 'l' if it's too low ⬇️, or 'c' if I guessed correctly ✅: l\n",
            "Is your number 64? 😅\n",
            "Enter 'h' if it's too high ⬆️, 'l' if it's too low ⬇️, or 'c' if I guessed correctly ✅: l\n",
            "Is your number 67? 😅\n",
            "Enter 'h' if it's too high ⬆️, 'l' if it's too low ⬇️, or 'c' if I guessed correctly ✅: c\n",
            "🎉 Hooray! I guessed your number 67 in 9 attempts! 🎉\n"
          ]
        }
      ],
      "source": [
        "import random\n",
        "\n",
        "# Function to run the game where the computer guesses the number\n",
        "def computer_guess_the_number():\n",
        "    print(\"🎲 Think of a number between 1 and 100 and I will try to guess it! 🤔\")\n",
        "\n",
        "    low = 1\n",
        "    high = 100\n",
        "    attempts = 0\n",
        "    guessed_correctly = False\n",
        "\n",
        "    # While loop to keep the game running until the computer guesses correctly\n",
        "    while not guessed_correctly:\n",
        "        # Computer makes a guess\n",
        "        computer_guess = random.randint(low, high)\n",
        "        attempts += 1\n",
        "\n",
        "        # Ask for user feedback\n",
        "        print(f\"Is your number {computer_guess}? 😅\")\n",
        "        feedback = input(\"Enter 'h' if it's too high ⬆️, 'l' if it's too low ⬇️, or 'c' if I guessed correctly ✅: \").lower()\n",
        "\n",
        "        # Check user feedback\n",
        "        if feedback == 'c':\n",
        "            print(f\"🎉 Hooray! I guessed your number {computer_guess} in {attempts} attempts! 🎉\")\n",
        "            guessed_correctly = True\n",
        "        elif feedback == 'h':\n",
        "            high = computer_guess - 1  # Adjust the high range if guess is too high\n",
        "        elif feedback == 'l':\n",
        "            low = computer_guess + 1  # Adjust the low range if guess is too low\n",
        "        else:\n",
        "            print(\"❌ Please enter a valid feedback ('h', 'l', or 'c'). ❌\")\n",
        "\n",
        "# Call the function to start the game\n",
        "computer_guess_the_number()"
      ]
    }
  ]
}