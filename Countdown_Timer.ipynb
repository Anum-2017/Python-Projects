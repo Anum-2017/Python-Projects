{
  "nbformat": 4,
  "nbformat_minor": 0,
  "metadata": {
    "colab": {
      "provenance": [],
      "authorship_tag": "ABX9TyOqu3c1lp/C8sbju2HcnqW5",
      "include_colab_link": true
    },
    "kernelspec": {
      "name": "python3",
      "display_name": "Python 3"
    },
    "language_info": {
      "name": "python"
    }
  },
  "cells": [
    {
      "cell_type": "markdown",
      "metadata": {
        "id": "view-in-github",
        "colab_type": "text"
      },
      "source": [
        "<a href=\"https://colab.research.google.com/github/Anum-2017/Python-Projects/blob/main/Countdown_Timer.ipynb\" target=\"_parent\"><img src=\"https://colab.research.google.com/assets/colab-badge.svg\" alt=\"Open In Colab\"/></a>"
      ]
    },
    {
      "cell_type": "markdown",
      "source": [
        "# **Project 6 Countdown Timer Python Project!**"
      ],
      "metadata": {
        "id": "NAAMALgCRUZx"
      }
    },
    {
      "cell_type": "code",
      "execution_count": 4,
      "metadata": {
        "colab": {
          "base_uri": "https://localhost:8080/"
        },
        "id": "bUB6v-72O5It",
        "outputId": "431c8795-e757-4e50-f68b-8a13e2056547"
      },
      "outputs": [
        {
          "output_type": "stream",
          "name": "stdout",
          "text": [
            "Enter time in seconds⏲: 30\n",
            "00:01\n",
            "Time's up! ⛔\n"
          ]
        }
      ],
      "source": [
        "import time\n",
        "\n",
        "def countdown_timer(seconds):\n",
        "    while seconds > 0:\n",
        "        mins, secs = divmod(seconds, 60)\n",
        "        print(f\"\\r{mins:02}:{secs:02}\", end=\"\")\n",
        "        time.sleep(1)\n",
        "        seconds -= 1\n",
        "\n",
        "    print(\"\\nTime's up! ⛔\")\n",
        "\n",
        "time_in_seconds = int(input(\"Enter time in seconds⏲: \"))\n",
        "countdown_timer(time_in_seconds)"
      ]
    }
  ]
}