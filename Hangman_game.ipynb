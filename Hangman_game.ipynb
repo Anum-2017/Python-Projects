{
  "nbformat": 4,
  "nbformat_minor": 0,
  "metadata": {
    "colab": {
      "provenance": [],
      "authorship_tag": "ABX9TyPHG2zlO80aEx344VtObmW7",
      "include_colab_link": true
    },
    "kernelspec": {
      "name": "python3",
      "display_name": "Python 3"
    },
    "language_info": {
      "name": "python"
    }
  },
  "cells": [
    {
      "cell_type": "markdown",
      "metadata": {
        "id": "view-in-github",
        "colab_type": "text"
      },
      "source": [
        "<a href=\"https://colab.research.google.com/github/Anum-2017/Python-Projects/blob/main/Hangman_game.ipynb\" target=\"_parent\"><img src=\"https://colab.research.google.com/assets/colab-badge.svg\" alt=\"Open In Colab\"/></a>"
      ]
    },
    {
      "cell_type": "markdown",
      "source": [
        "# **Project 5: Hangman Python Project**"
      ],
      "metadata": {
        "id": "UIn5OZUlicXO"
      }
    },
    {
      "cell_type": "code",
      "source": [
        "import random\n",
        "\n",
        "# List of words for the game\n",
        "word_list = ['python', 'java', 'javascript', 'ruby', 'html', 'css', 'cplusplus', 'kotlin']\n",
        "\n",
        "# Function to choose a random word\n",
        "def choose_word():\n",
        "    return random.choice(word_list)\n",
        "\n",
        "# Function to display the current state of the word\n",
        "def display_word(word, guessed_letters):\n",
        "    display = ''\n",
        "    for letter in word:\n",
        "        if letter in guessed_letters:\n",
        "            display += letter\n",
        "        else:\n",
        "            display += '_'\n",
        "    return display\n",
        "\n",
        "# Main game function\n",
        "def hangman():\n",
        "    word = choose_word()\n",
        "    guessed_letters = []\n",
        "    attempts_left = 6  # Number of attempts for the player\n",
        "    guessed_word = False\n",
        "\n",
        "    print(\"🎉 Welcome to Hangman! 🎉\")\n",
        "    print(f\"The word has {len(word)} letters. 🤔\")\n",
        "\n",
        "    # Game loop\n",
        "    while attempts_left > 0 and not guessed_word:\n",
        "        print(f\"\\nWord: {display_word(word, guessed_letters)}\")\n",
        "        print(f\"Guessed letters: {guessed_letters}\")\n",
        "        print(f\"Attempts left: {attempts_left} ❤️\")\n",
        "\n",
        "        guess = input(\"Guess a letter: \").lower()\n",
        "\n",
        "        if len(guess) != 1 or not guess.isalpha():\n",
        "            print(\"❌ Please enter a valid single letter. ❌\")\n",
        "            continue\n",
        "\n",
        "        if guess in guessed_letters:\n",
        "            print(f\"⚠️ You've already guessed the letter '{guess}'. Try another one. ⚠️\")\n",
        "            continue\n",
        "\n",
        "        # Add the guessed letter to the list\n",
        "        guessed_letters.append(guess)\n",
        "\n",
        "        # Check if the guessed letter is in the word\n",
        "        if guess in word:\n",
        "            print(f\"✅ Good guess! The letter '{guess}' is in the word. ✅\")\n",
        "        else:\n",
        "            attempts_left -= 1\n",
        "            print(f\"❌ Oops! The letter '{guess}' is not in the word. ❌\")\n",
        "\n",
        "        # Check if the word is guessed correctly\n",
        "        if display_word(word, guessed_letters) == word:\n",
        "            guessed_word = True\n",
        "            print(f\"\\n\\u001b[1m🎉 Congratulations! You've guessed the word: {word} 🎉\\u001b[0m\")\n",
        "\n",
        "    # If the player runs out of attempts\n",
        "    if not guessed_word:\n",
        "        print(f\"\\n💀 Game over! The word was: {word} 💀\")\n",
        "\n",
        "# Run the game\n",
        "if __name__ == \"__main__\":\n",
        "    hangman()"
      ],
      "metadata": {
        "colab": {
          "base_uri": "https://localhost:8080/"
        },
        "id": "9xkwhrlp10Pl",
        "outputId": "fc5b312e-4890-45b2-b629-b96af1475ba3"
      },
      "execution_count": 18,
      "outputs": [
        {
          "output_type": "stream",
          "name": "stdout",
          "text": [
            "🎉 Welcome to Hangman! 🎉\n",
            "The word has 10 letters. 🤔\n",
            "\n",
            "Word: __________\n",
            "Guessed letters: []\n",
            "Attempts left: 6 ❤️\n",
            "Guess a letter: p\n",
            "✅ Good guess! The letter 'p' is in the word. ✅\n",
            "\n",
            "Word: ________p_\n",
            "Guessed letters: ['p']\n",
            "Attempts left: 6 ❤️\n",
            "Guess a letter: a\n",
            "✅ Good guess! The letter 'a' is in the word. ✅\n",
            "\n",
            "Word: _a_a____p_\n",
            "Guessed letters: ['p', 'a']\n",
            "Attempts left: 6 ❤️\n",
            "Guess a letter: c\n",
            "✅ Good guess! The letter 'c' is in the word. ✅\n",
            "\n",
            "Word: _a_a_c__p_\n",
            "Guessed letters: ['p', 'a', 'c']\n",
            "Attempts left: 6 ❤️\n",
            "Guess a letter: t\n",
            "✅ Good guess! The letter 't' is in the word. ✅\n",
            "\n",
            "Word: _a_a_c__pt\n",
            "Guessed letters: ['p', 'a', 'c', 't']\n",
            "Attempts left: 6 ❤️\n",
            "Guess a letter: l\n",
            "❌ Oops! The letter 'l' is not in the word. ❌\n",
            "\n",
            "Word: _a_a_c__pt\n",
            "Guessed letters: ['p', 'a', 'c', 't', 'l']\n",
            "Attempts left: 5 ❤️\n",
            "Guess a letter: j\n",
            "✅ Good guess! The letter 'j' is in the word. ✅\n",
            "\n",
            "Word: ja_a_c__pt\n",
            "Guessed letters: ['p', 'a', 'c', 't', 'l', 'j']\n",
            "Attempts left: 5 ❤️\n",
            "Guess a letter: v\n",
            "✅ Good guess! The letter 'v' is in the word. ✅\n",
            "\n",
            "Word: java_c__pt\n",
            "Guessed letters: ['p', 'a', 'c', 't', 'l', 'j', 'v']\n",
            "Attempts left: 5 ❤️\n",
            "Guess a letter: e\n",
            "❌ Oops! The letter 'e' is not in the word. ❌\n",
            "\n",
            "Word: java_c__pt\n",
            "Guessed letters: ['p', 'a', 'c', 't', 'l', 'j', 'v', 'e']\n",
            "Attempts left: 4 ❤️\n",
            "Guess a letter: s\n",
            "✅ Good guess! The letter 's' is in the word. ✅\n",
            "\n",
            "Word: javasc__pt\n",
            "Guessed letters: ['p', 'a', 'c', 't', 'l', 'j', 'v', 'e', 's']\n",
            "Attempts left: 4 ❤️\n",
            "Guess a letter: i\n",
            "✅ Good guess! The letter 'i' is in the word. ✅\n",
            "\n",
            "Word: javasc_ipt\n",
            "Guessed letters: ['p', 'a', 'c', 't', 'l', 'j', 'v', 'e', 's', 'i']\n",
            "Attempts left: 4 ❤️\n",
            "Guess a letter: r\n",
            "✅ Good guess! The letter 'r' is in the word. ✅\n",
            "\n",
            "\u001b[1m🎉 Congratulations! You've guessed the word: javascript 🎉\u001b[0m\n"
          ]
        }
      ]
    }
  ]
}