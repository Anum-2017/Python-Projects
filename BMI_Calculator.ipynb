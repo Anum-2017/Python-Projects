{
  "nbformat": 4,
  "nbformat_minor": 0,
  "metadata": {
    "colab": {
      "provenance": [],
      "authorship_tag": "ABX9TyOiywcNK9HujrVJgZizhJB6",
      "include_colab_link": true
    },
    "kernelspec": {
      "name": "python3",
      "display_name": "Python 3"
    },
    "language_info": {
      "name": "python"
    }
  },
  "cells": [
    {
      "cell_type": "markdown",
      "metadata": {
        "id": "view-in-github",
        "colab_type": "text"
      },
      "source": [
        "<a href=\"https://colab.research.google.com/github/Anum-2017/Python-Projects/blob/main/BMI_Calculator.ipynb\" target=\"_parent\"><img src=\"https://colab.research.google.com/assets/colab-badge.svg\" alt=\"Open In Colab\"/></a>"
      ]
    },
    {
      "cell_type": "markdown",
      "source": [
        "# **Project 8: Create a Python Streamlit BMI Calculator Web App**\n",
        "\n",
        "[Live View 👀](https://bmicalculator-by-anum.streamlit.app/)"
      ],
      "metadata": {
        "id": "kuJKz393sX0q"
      }
    },
    {
      "cell_type": "code",
      "source": [
        "import streamlit as st\n",
        "import pandas as pd\n",
        "\n",
        "st.set_page_config(page_title='BMI Calculator', page_icon='⚖️', layout='wide')\n",
        "\n",
        "def calculate_bmi(height, weight):\n",
        "    return weight / ((height / 100) ** 2)\n",
        "\n",
        "# Custom CSS for better styling\n",
        "st.markdown(\"\"\"\n",
        "\n",
        "    \"\"\", unsafe_allow_html=True)\n",
        "\n",
        "st.markdown(\"<div class='title-container'>⚖️ BMI Calculator</div>\", unsafe_allow_html=True)\n",
        "\n",
        "st.markdown(\"**BMI (Body Mass Index):**\\nBMI is a simple calculation using a person’s weight and height to determine if they are underweight, normal weight, overweight, or obese. It helps assess body fat and overall health risks.\", unsafe_allow_html=True)\n",
        "\n",
        "st.markdown(\"### 🔍 Enter Your Details\", unsafe_allow_html=True)\n",
        "\n",
        "# Input section with improved layout\n",
        "col1, col2 = st.columns([1, 1])\n",
        "with col1:\n",
        "    height = st.slider('📏 **Height (cm)**', 100, 250, 170)\n",
        "with col2:\n",
        "    weight = st.slider('⚖️ **Weight (kg)**', 30, 200, 70)\n",
        "\n",
        "bmi = calculate_bmi(height, weight)\n",
        "\n",
        "st.markdown(\"---\")\n",
        "st.subheader(\"📊 Your BMI Result\")\n",
        "\n",
        "# BMI Category and Styling\n",
        "if bmi < 18.5:\n",
        "    category = \"Underweight\"\n",
        "    color = \"#3498db\"  # Blue\n",
        "    emoji = \"😟\"\n",
        "elif 18.5 <= bmi < 25:\n",
        "    category = \"Normal weight\"\n",
        "    color = \"#2ecc71\"  # Green\n",
        "    emoji = \"😊\"\n",
        "elif 25 <= bmi < 30:\n",
        "    category = \"Overweight\"\n",
        "    color = \"#f39c12\"  # Orange\n",
        "    emoji = \"😬\"\n",
        "else:\n",
        "    category = \"Obesity\"\n",
        "    color = \"#e74c3c\"  # Red\n",
        "    emoji = \"😲\"\n",
        "\n",
        "# Display BMI result with better styling\n",
        "st.markdown(f'<div class=\"metric-container\" style=\"background-color:{color}; color:white;\">Your BMI: {bmi:.2f} {emoji}</div>', unsafe_allow_html=True)\n",
        "st.progress(min(bmi / 40, 1.0))\n",
        "\n",
        "st.markdown(f'<p style=\"color:{color}; font-size:22px; font-weight:bold;\">Category: {category}</p>', unsafe_allow_html=True)\n",
        "\n",
        "st.markdown(\"### 📌 BMI Categories\", unsafe_allow_html=True)\n",
        "col3, col4 = st.columns(2)\n",
        "with col3:\n",
        "    st.info(\"🔵 Underweight: BMI < 18.5\")\n",
        "    st.success(\"🟢 Normal weight: 18.5 - 24.9\")\n",
        "with col4:\n",
        "    st.warning(\"🟠 Overweight: 25 - 29.9\")\n",
        "    st.error(\"🔴 Obesity: BMI ≥ 30\")\n",
        "\n",
        "st.markdown(\"---\")\n",
        "st.markdown(\"<div class='tip-container'>💡 Tip: Maintain a balanced diet and regular exercise for a healthy BMI!</div>\", unsafe_allow_html=True)\n",
        "\n",
        "# Footer\n",
        "st.markdown(\"<div class='footer'>Developed by <b>Anum Kamal</b> 💜 | Powered by Streamlit</div>\", unsafe_allow_html=True)\n",
        "\n"
      ],
      "metadata": {
        "id": "Lef8ztousYNY"
      },
      "execution_count": null,
      "outputs": []
    }
  ]
}