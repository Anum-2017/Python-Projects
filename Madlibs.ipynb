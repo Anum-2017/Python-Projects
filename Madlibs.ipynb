{
  "nbformat": 4,
  "nbformat_minor": 0,
  "metadata": {
    "colab": {
      "provenance": [],
      "authorship_tag": "ABX9TyPhqGVZ5hJBGDTJIwwFrHtw",
      "include_colab_link": true
    },
    "kernelspec": {
      "name": "python3",
      "display_name": "Python 3"
    },
    "language_info": {
      "name": "python"
    }
  },
  "cells": [
    {
      "cell_type": "markdown",
      "metadata": {
        "id": "view-in-github",
        "colab_type": "text"
      },
      "source": [
        "<a href=\"https://colab.research.google.com/github/Anum-2017/Python-Projects/blob/main/Madlibs.ipynb\" target=\"_parent\"><img src=\"https://colab.research.google.com/assets/colab-badge.svg\" alt=\"Open In Colab\"/></a>"
      ]
    },
    {
      "cell_type": "markdown",
      "source": [
        "# **Project 1: Mad libs Python Project**"
      ],
      "metadata": {
        "id": "wdRLQnSO5hs_"
      }
    },
    {
      "cell_type": "code",
      "execution_count": 2,
      "metadata": {
        "colab": {
          "base_uri": "https://localhost:8080/"
        },
        "id": "YQMn9AX55Z_C",
        "outputId": "20e75822-ab38-4bf5-e201-0e84805fcb13"
      },
      "outputs": [
        {
          "output_type": "stream",
          "name": "stdout",
          "text": [
            "🔥 Welcome to the Mad Libs Adventure! 🔥\n",
            "\n",
            "😆 Fill in the blanks and create your own hilarious story!\n",
            "\n",
            "😜 Enter your name: Jack\n",
            "⚡ Enter a superpower: invisibility\n",
            "🐾 Enter a random animal: dragon\n",
            "📍 Enter a weird place: underwater cave\n",
            "🍕 Enter a delicious food: lasagna\n",
            "🎾 Enter a random object: rubber duck\n",
            "😊 Enter an emotion: confused\n",
            "🔊 Enter a funny sound (like 'Boing' or 'Kaboom'): SPLASH\n",
            "\n",
            "==================================================\n",
            "\n",
            "🌟✨ YOUR CRAZY MAD LIBS STORY ✨🌟\n",
            "\n",
            "🚨 Jack was casually sitting on a rubber duck when suddenly a dragon flew out of the underwater cave!\n",
            "   Without missing a beat, Jack used their superpower of invisibility and BROKE INTO A FLASH DANCE ROUTINE 💃🕺 🌀💨.\n",
            "   The dragon was so confused 🤩 that it made a loud 'SPLASH!' 🔊 and vanished into thin air. 🏃‍♂️💨\n",
            "   Not wanting to miss out on the fun, Jack picked up a rubber duck and began dancing like nobody was watching 🕺💃.\n",
            "   Finally, they sat down and ate a big plate of lasagna, feeling victorious! 🎉🥳\n",
            "   And that's how Jack became the hero of underwater cave, known for their incredible adventures and unforgettable superpower! 🌍✨\n",
            "\n",
            "==================================================\n",
            "\n"
          ]
        }
      ],
      "source": [
        "import random\n",
        "\n",
        "print(\"🔥 Welcome to the Mad Libs Adventure! 🔥\\n\")\n",
        "print(\"😆 Fill in the blanks and create your own hilarious story!\\n\")\n",
        "\n",
        "# Taking user inputs\n",
        "name = input(\"😜 Enter your name: \")\n",
        "superpower = input(\"⚡ Enter a superpower: \")\n",
        "animal = input(\"🐾 Enter a random animal: \")\n",
        "place = input(\"📍 Enter a weird place: \")\n",
        "food = input(\"🍕 Enter a delicious food: \")\n",
        "object = input(\"🎾 Enter a random object: \")\n",
        "emotion = input(\"😊 Enter an emotion: \")\n",
        "sound = input(\"🔊 Enter a funny sound (like 'Boing' or 'Kaboom'): \")\n",
        "\n",
        "# List of possible random scenarios to begin the story\n",
        "starts = [\n",
        "    f\"{name} was casually sitting on a {object} when suddenly a {animal} flew out of the {place}!\",\n",
        "    f\"{name} was in the middle of eating {food} when they noticed a giant {animal} doing the {superpower} in {place}!\",\n",
        "    f\"Just as {name} was preparing to take a nap, a {animal} appeared in {place} and challenged them to a {superpower} battle!\",\n",
        "    f\"{name} was taking a stroll when they stepped into {place}, only to find a wild {animal} juggling {food}!\",\n",
        "    f\"{name} was visiting {place} when a {animal} burst out of nowhere and started singing the national anthem while eating {food}!\"\n",
        "]\n",
        "\n",
        "# Randomly choose one starting scenario\n",
        "random_start = random.choice(starts)\n",
        "\n",
        "# List of possible random actions\n",
        "actions = [\n",
        "    \"began to moonwalk on the clouds 🌥️💃\",\n",
        "    \"started juggling flaming tacos 🔥🌮\",\n",
        "    \"turned into a giant marshmallow 🍡\",\n",
        "    \"launched into space on a rocket made of cheese 🧀🚀\",\n",
        "    \"broke into a flash dance routine 💃🕺\"\n",
        "]\n",
        "\n",
        "# Randomly choose one action\n",
        "random_action = random.choice(actions)\n",
        "\n",
        "# Creating the Mad Libs story using the input and random action\n",
        "story = f\"\"\"\n",
        "🌟✨ YOUR CRAZY MAD LIBS STORY ✨🌟\n",
        "\n",
        "🚨 {random_start}\n",
        "   Without missing a beat, {name} used their superpower of {superpower} and {random_action.upper()} 🌀💨.\n",
        "   The {animal} was so {emotion} 🤩 that it made a loud '{sound}!' 🔊 and vanished into thin air. 🏃‍♂️💨\n",
        "   Not wanting to miss out on the fun, {name} picked up a {object} and began dancing like nobody was watching 🕺💃.\n",
        "   Finally, they sat down and ate a big plate of {food}, feeling victorious! 🎉🥳\n",
        "   And that's how {name} became the hero of {place}, known for their incredible adventures and unforgettable superpower! 🌍✨\n",
        "\"\"\"\n",
        "\n",
        "# Printing the final story\n",
        "print(\"\\n\" + \"=\"*50)\n",
        "print(story)\n",
        "print(\"=\"*50 + \"\\n\")"
      ]
    }
  ]
}