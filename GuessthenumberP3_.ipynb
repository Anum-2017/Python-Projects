{
  "nbformat": 4,
  "nbformat_minor": 0,
  "metadata": {
    "colab": {
      "provenance": [],
      "authorship_tag": "ABX9TyOLij8QKYKThrGvPAy4iPKd",
      "include_colab_link": true
    },
    "kernelspec": {
      "name": "python3",
      "display_name": "Python 3"
    },
    "language_info": {
      "name": "python"
    }
  },
  "cells": [
    {
      "cell_type": "markdown",
      "metadata": {
        "id": "view-in-github",
        "colab_type": "text"
      },
      "source": [
        "<a href=\"https://colab.research.google.com/github/Anum-2017/Python-Projects/blob/main/GuessthenumberP3_.ipynb\" target=\"_parent\"><img src=\"https://colab.research.google.com/assets/colab-badge.svg\" alt=\"Open In Colab\"/></a>"
      ]
    },
    {
      "cell_type": "markdown",
      "source": [
        "# **Project 3 Guess the Number Game Python Project (user)**"
      ],
      "metadata": {
        "id": "iO6gmhUkar_Z"
      }
    },
    {
      "cell_type": "code",
      "execution_count": 1,
      "metadata": {
        "colab": {
          "base_uri": "https://localhost:8080/"
        },
        "id": "xaQmbFXVarCP",
        "outputId": "02c1d737-6c80-4f8a-811a-231bbc461657"
      },
      "outputs": [
        {
          "output_type": "stream",
          "name": "stdout",
          "text": [
            "🎲 Welcome to Guess the Number! 🎲\n",
            "I am thinking of a number between 1 and 100. Can you guess it? 🤔\n",
            "Enter your guess: 50\n",
            "⬆️ Too low! Try again.\n",
            "Enter your guess: 80\n",
            "⬇️ Too high! Try again.\n",
            "Enter your guess: 65\n",
            "⬆️ Too low! Try again.\n",
            "Enter your guess: 75\n",
            "⬇️ Too high! Try again.\n",
            "Enter your guess: 70\n",
            "🎉 Congratulations! You've guessed the number 70 in 5 attempts! 🎉\n"
          ]
        }
      ],
      "source": [
        "import random\n",
        "\n",
        "# Function to run the game where the user guesses the number\n",
        "def guess_the_number():\n",
        "    print(\"🎲 Welcome to Guess the Number! 🎲\")\n",
        "    print(\"I am thinking of a number between 1 and 100. Can you guess it? 🤔\")\n",
        "\n",
        "    # The computer picks a random number between 1 and 100\n",
        "    number_to_guess = random.randint(1, 100)\n",
        "\n",
        "    attempts = 0\n",
        "    guessed_correctly = False\n",
        "\n",
        "    # While loop to keep the game running until the user guesses correctly\n",
        "    while not guessed_correctly:\n",
        "        # Get user input for the guess\n",
        "        user_guess = input(\"Enter your guess: \")\n",
        "\n",
        "        # Validate user input\n",
        "        if not user_guess.isdigit():\n",
        "            print(\"❌ Please enter a valid number. ❌\")\n",
        "            continue\n",
        "\n",
        "        # Convert user input to an integer\n",
        "        user_guess = int(user_guess)\n",
        "        attempts += 1\n",
        "\n",
        "        # Check if the guess is correct, too high, or too low\n",
        "        if user_guess < number_to_guess:\n",
        "            print(\"⬆️ Too low! Try again.\")\n",
        "        elif user_guess > number_to_guess:\n",
        "            print(\"⬇️ Too high! Try again.\")\n",
        "        else:\n",
        "            print(f\"🎉 Congratulations! You've guessed the number {number_to_guess} in {attempts} attempts! 🎉\")\n",
        "            guessed_correctly = True\n",
        "\n",
        "# Call the function to start the game\n",
        "guess_the_number()"
      ]
    }
  ]
}