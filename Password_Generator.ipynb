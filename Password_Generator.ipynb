{
  "nbformat": 4,
  "nbformat_minor": 0,
  "metadata": {
    "colab": {
      "provenance": [],
      "authorship_tag": "ABX9TyP0Nzd9Vu8rLUxqbP3h21cI",
      "include_colab_link": true
    },
    "kernelspec": {
      "name": "python3",
      "display_name": "Python 3"
    },
    "language_info": {
      "name": "python"
    }
  },
  "cells": [
    {
      "cell_type": "markdown",
      "metadata": {
        "id": "view-in-github",
        "colab_type": "text"
      },
      "source": [
        "<a href=\"https://colab.research.google.com/github/Anum-2017/Python-Projects/blob/main/Password_Generator.ipynb\" target=\"_parent\"><img src=\"https://colab.research.google.com/assets/colab-badge.svg\" alt=\"Open In Colab\"/></a>"
      ]
    },
    {
      "cell_type": "markdown",
      "source": [
        "# **Project 7: Password Generator Python Project**"
      ],
      "metadata": {
        "id": "K6mgFvQPVPmg"
      }
    },
    {
      "cell_type": "code",
      "execution_count": 7,
      "metadata": {
        "colab": {
          "base_uri": "https://localhost:8080/"
        },
        "id": "osRU8s8zVGpS",
        "outputId": "e07d5d80-9083-4243-ca70-c61bf5b64c30"
      },
      "outputs": [
        {
          "output_type": "stream",
          "name": "stdout",
          "text": [
            "Enter the length of each password: 15\n",
            "\n",
            "Generated Passwords:\n",
            "j#K4Z\"r}\\&n\\Fo`\n",
            "'sK_~rsX=||!@n/\n",
            "6i>q+lmdAL_'T$Q\n",
            "Qt7-l$A*;O3<k1P\n",
            "Cnr*FNj}im)+%RK\n"
          ]
        }
      ],
      "source": [
        "import random\n",
        "import string\n",
        "\n",
        "# Function to generate a random password\n",
        "def generate_password(length):\n",
        "\n",
        "    # Combining uppercase, lowercase, digits, and punctuation for the password\n",
        "    characters = string.ascii_letters + string.digits + string.punctuation\n",
        "\n",
        "    # Randomly selecting characters from the combined list\n",
        "    password = ''.join(random.choice(characters) for i in range(length))\n",
        "    return password\n",
        "\n",
        "# Main program to collect user input and generate passwords\n",
        "def main():\n",
        "    # Ask the user for the length of each password\n",
        "    length = int(input(\"Enter the length of each password: \"))\n",
        "\n",
        "    # Ask the user for the number of passwords they want (now it's hardcoded to 5)\n",
        "    num_passwords = 5  # Change the number of passwords to 5 by default\n",
        "\n",
        "    # Generate and display the passwords\n",
        "    print(\"\\nGenerated Passwords:\")\n",
        "    for _ in range(num_passwords):\n",
        "        print(generate_password(length))\n",
        "\n",
        "# Run the main function\n",
        "if __name__ == \"__main__\":\n",
        "    main()\n"
      ]
    }
  ]
}